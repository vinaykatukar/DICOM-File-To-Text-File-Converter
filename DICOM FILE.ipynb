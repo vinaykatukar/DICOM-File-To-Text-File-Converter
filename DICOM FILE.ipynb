{
 "cells": [
  {
   "cell_type": "markdown",
   "metadata": {},
   "source": [
    "# DICOM (Digital Imaging and Communications in Medicine)"
   ]
  },
  {
   "cell_type": "code",
   "execution_count": 20,
   "metadata": {},
   "outputs": [],
   "source": [
    "#importing the required library to read the DICOM file\n",
    "import pydicom\n",
    "\n",
    "datafile = pydicom.dcmread('C:/Users/Instant/Desktop/Dicom_Image/ttfm.dcm')"
   ]
  },
  {
   "cell_type": "code",
   "execution_count": 18,
   "metadata": {},
   "outputs": [
    {
     "data": {
      "text/plain": [
       "'(0008, 0005),(0008, 0008),(0008, 0016),(0008, 0018),(0008, 0020),(0008, 0021),(0008, 0023),(0008, 0030),(0008, 0031),(0008, 0033),(0008, 0050),(0008, 0060),(0008, 0070),(0008, 0080),(0008, 0081),(0008, 0090),(0008, 1010),(0008, 1030),(0008, 1050),(0008, 1090),(0008, 2144),(0010, 0010),(0010, 0020),(0010, 0030),(0010, 0040),(0010, 1020),(0010, 1030),(0010, 4000),(0018, 0040),(0018, 0072),(0018, 1000),(0018, 1020),(0018, 1063),(0018, 1244),(0018, 6011),(0020, 000d),(0020, 000e),(0020, 0010),(0020, 0011),(0020, 0013),(0020, 0020),(0020, 0060),(0020, 4000),(0028, 0002),(0028, 0004),(0028, 0006),(0028, 0008),(0028, 0009),(0028, 0010),(0028, 0011),(0028, 0100),(0028, 0101),(0028, 0102),(0028, 0103),(0028, 2110),(7fe0, 0010)'"
      ]
     },
     "execution_count": 18,
     "metadata": {},
     "output_type": "execute_result"
    }
   ],
   "source": [
    "#display the tag code in string\n",
    "data = datafile.tags\n",
    "data_string = ','.join(map(str,(data)))\n",
    "data_string"
   ]
  },
  {
   "cell_type": "code",
   "execution_count": 19,
   "metadata": {},
   "outputs": [
    {
     "data": {
      "text/plain": [
       "'AccessionNumber,BitsAllocated,BitsStored,CineRate,Columns,ContentDate,ContentTime,DeviceSerialNumber,EffectiveDuration,FrameIncrementPointer,FrameTime,HighBit,ImageComments,ImageType,InstanceNumber,InstitutionAddress,InstitutionName,Laterality,LossyImageCompression,Manufacturer,ManufacturerModelName,Modality,NumberOfFrames,PatientBirthDate,PatientComments,PatientID,PatientName,PatientOrientation,PatientSex,PatientSize,PatientWeight,PerformingPhysicianName,PhotometricInterpretation,PixelData,PixelRepresentation,PlanarConfiguration,PreferredPlaybackSequencing,RecommendedDisplayFrameRate,ReferringPhysicianName,Rows,SOPClassUID,SOPInstanceUID,SamplesPerPixel,SequenceOfUltrasoundRegions,SeriesDate,SeriesInstanceUID,SeriesNumber,SeriesTime,SoftwareVersions,SpecificCharacterSet,StationName,StudyDate,StudyDescription,StudyID,StudyInstanceUID,StudyTime'"
      ]
     },
     "execution_count": 19,
     "metadata": {},
     "output_type": "execute_result"
    }
   ],
   "source": [
    "#display the tag name in string\n",
    "data = datafile.dir()\n",
    "data_string = ','.join(data)\n",
    "data_string"
   ]
  },
  {
   "cell_type": "code",
   "execution_count": null,
   "metadata": {},
   "outputs": [],
   "source": []
  }
 ],
 "metadata": {
  "kernelspec": {
   "display_name": "Python 3",
   "language": "python",
   "name": "python3"
  },
  "language_info": {
   "codemirror_mode": {
    "name": "ipython",
    "version": 3
   },
   "file_extension": ".py",
   "mimetype": "text/x-python",
   "name": "python",
   "nbconvert_exporter": "python",
   "pygments_lexer": "ipython3",
   "version": "3.6.4"
  }
 },
 "nbformat": 4,
 "nbformat_minor": 2
}
